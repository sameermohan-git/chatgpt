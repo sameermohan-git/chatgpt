{
  "nbformat": 4,
  "nbformat_minor": 0,
  "metadata": {
    "colab": {
      "provenance": [],
      "authorship_tag": "ABX9TyMxxWOT+sSNauKItfJdXRSq",
      "include_colab_link": true
    },
    "kernelspec": {
      "name": "python3",
      "display_name": "Python 3"
    },
    "language_info": {
      "name": "python"
    }
  },
  "cells": [
    {
      "cell_type": "markdown",
      "metadata": {
        "id": "view-in-github",
        "colab_type": "text"
      },
      "source": [
        "<a href=\"https://colab.research.google.com/github/sameermohan-git/chatgpt/blob/main/ChatGPT_Fine_Tuning.ipynb\" target=\"_parent\"><img src=\"https://colab.research.google.com/assets/colab-badge.svg\" alt=\"Open In Colab\"/></a>"
      ]
    },
    {
      "cell_type": "code",
      "execution_count": null,
      "metadata": {
        "id": "BXDZbO4UQ-Lj"
      },
      "outputs": [],
      "source": [
        "#pip install openai\n",
        "\n",
        "import os\n",
        "import pandas as pd\n",
        "import openai\n",
        "import subprocess"
      ]
    },
    {
      "cell_type": "code",
      "source": [
        "openai.api_key = 'sk-XGnFJqfHy24ZTlJDThcE0seK8'#os.getenv(\"OPENAI_API_KEY\")\n",
        "\n",
        "l_age = ['18', '20']\n",
        "l_gender = ['man']\n",
        "l_power = ['invisibility'] \n",
        "\n",
        "f_prompt = \"Imagine a complete and detailed description of a {age}-year-old {gender} fictional character who has the superpower of {power}. Write out the entire description in a maximum of 100 words in great detail:\"\n",
        "f_sub_prompt = \"{age}, {gender}, {power}\"\n",
        "\n",
        "df = pd.DataFrame()\n",
        "for age in l_age:\n",
        " for gender in l_gender:\n",
        "  for power in l_power:\n",
        "   for i in range(3): ## 3 times each\n",
        "    prompt = f_prompt.format(age=age, gender=gender, power=power)\n",
        "    sub_prompt = f_sub_prompt.format(age=age, gender=gender, power=power)\n",
        "    print(sub_prompt)\n",
        "\n",
        "    response = openai.Completion.create(\n",
        "     model=\"text-davinci-003\",\n",
        "     prompt=prompt,\n",
        "     temperature=1,\n",
        "     max_tokens=500,\n",
        "     top_p=1,\n",
        "     frequency_penalty=0,\n",
        "     presence_penalty=0\n",
        "    )\n",
        "    \n",
        "    finish_reason = response['choices'][0]['finish_reason']\n",
        "    response_txt = response['choices'][0]['text']\n",
        "    \n",
        "    new_row = {\n",
        "      'age':age, \n",
        "      'gender':gender, \n",
        "      'power':power, \n",
        "      'prompt':prompt, \n",
        "      'sub_prompt':sub_prompt, \n",
        "      'response_txt':response_txt, \n",
        "      'finish_reason':finish_reason}\n",
        "    new_row = pd.DataFrame([new_row])\n",
        "    df = pd.concat([df, new_row], axis=0, ignore_index=True)\n",
        "\n",
        "df.to_csv(\"out_openai_completion.csv\")"
      ],
      "metadata": {
        "id": "ttr_gd-aRGaV"
      },
      "execution_count": null,
      "outputs": []
    },
    {
      "cell_type": "code",
      "source": [
        "import subprocess\n",
        "\n",
        "df = pd.read_csv(\"PycharmProjects/chatgpt/out_openai_completion.csv\")\n",
        "\n",
        "prepared_data = df.loc[:,['sub_prompt','response_txt']]\n",
        "prepared_data.rename(columns={'sub_prompt':'prompt', 'response_txt':'completion'}, inplace=True)\n",
        "prepared_data.to_csv('PycharmProjects/chatgpt/prepared_data.csv',index=False)\n",
        "\n",
        "\n",
        "## prepared_data.csv --> prepared_data_prepared.json\n",
        "subprocess.run('openai tools fine_tunes.prepare_data --file PycharmProjects/chatgpt/prepared_data.csv --quiet'.split())\n",
        "\n",
        "## Start fine-tuning\n",
        "subprocess.run('openai --api-key sk-XGn8ln8ePYlNBGDHglbkFJqfHy24ZTlJDThcE0seK8 api fine_tunes.create --training_file PycharmProjects/chatgpt/prepared_data_prepared.jsonl --model curie --suffix \"SameerMohan\"'.split())\n"
      ],
      "metadata": {
        "id": "_bBc30xKRLez"
      },
      "execution_count": null,
      "outputs": []
    }
  ]
}